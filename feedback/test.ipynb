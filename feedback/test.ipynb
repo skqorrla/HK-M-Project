{
 "cells": [
  {
   "cell_type": "markdown",
   "metadata": {},
   "source": [
    "# 기초 설정"
   ]
  },
  {
   "cell_type": "markdown",
   "metadata": {},
   "source": [
    "- HH TABLE\n",
    "  - H_INC_TOT\n",
    "  - PROP\n",
    "  - DEBT (OR DEBT_RATIO)\n",
    "  - CUSTM_BENF_YN\n",
    "\n",
    "- PHI TABLE\n",
    "  - HHID\n",
    "  - PIDWON\n",
    "  - SEX\n",
    "  - DISA_YN\n",
    "  - AGE\n",
    "  - P2\n",
    "  - P2_2 (P2_1 -> 분단위로 변경)\n",
    "  - WTMG\n",
    "  - MED_SUM (EROOP + INOOP + OUOOP_1)\n",
    "  - OUOOP_2"
   ]
  },
  {
   "cell_type": "markdown",
   "metadata": {},
   "source": [
    "PHI_BENEFIT,\n",
    "PHI_PREMIUM,\n",
    "INMED_CNR,\n",
    "INMED_CVD,\n",
    "INMED_ETC,\n",
    "INMED_HPT,\n",
    "INMED_HTN,\n",
    "INMED_LIV,\n",
    "INMED_LRI,\n",
    "INMED_MSD,\n",
    "INMED_OBG"
   ]
  },
  {
   "cell_type": "markdown",
   "metadata": {},
   "source": [
    "## 라이브러리"
   ]
  },
  {
   "cell_type": "code",
   "execution_count": 6,
   "metadata": {},
   "outputs": [],
   "source": [
    "from dotenv import load_dotenv\n",
    "from sqlalchemy import create_engine\n",
    "import os"
   ]
  },
  {
   "cell_type": "markdown",
   "metadata": {},
   "source": [
    "## DB 정보 설정"
   ]
  },
  {
   "cell_type": "code",
   "execution_count": 7,
   "metadata": {},
   "outputs": [],
   "source": [
    "# 연결 정보 설정\n",
    "MYSQL_USER = os.getenv(\"MYSQL_USER\")\n",
    "MYSQL_PASSWORD = os.getenv(\"MYSQL_PASSWORD\")\n",
    "MYSQL_HOST = os.getenv(\"MYSQL_HOST\")\n",
    "MYSQL_DB = \"raw_data\"\n",
    "\n",
    "# 엔진 생성\n",
    "engine = create_engine(\n",
    "    f\"mysql+pymysql://{MYSQL_USER}:{MYSQL_PASSWORD}@{MYSQL_HOST}/{MYSQL_DB}\"\n",
    ")"
   ]
  },
  {
   "cell_type": "code",
   "execution_count": null,
   "metadata": {},
   "outputs": [],
   "source": []
  }
 ],
 "metadata": {
  "kernelspec": {
   "display_name": "middle_project",
   "language": "python",
   "name": "python3"
  },
  "language_info": {
   "codemirror_mode": {
    "name": "ipython",
    "version": 3
   },
   "file_extension": ".py",
   "mimetype": "text/x-python",
   "name": "python",
   "nbconvert_exporter": "python",
   "pygments_lexer": "ipython3",
   "version": "3.13.2"
  }
 },
 "nbformat": 4,
 "nbformat_minor": 2
}
